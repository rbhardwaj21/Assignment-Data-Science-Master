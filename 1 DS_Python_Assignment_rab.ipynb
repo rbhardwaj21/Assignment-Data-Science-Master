{
  "nbformat": 4,
  "nbformat_minor": 0,
  "metadata": {
    "colab": {
      "provenance": []
    },
    "kernelspec": {
      "name": "python3",
      "display_name": "Python 3"
    },
    "language_info": {
      "name": "python"
    }
  },
  "cells": [
    {
      "cell_type": "markdown",
      "source": [
        "**Python Assignment**"
      ],
      "metadata": {
        "id": "-j3llzACjnBf"
      }
    },
    {
      "cell_type": "markdown",
      "source": [
        "**Ans1.1** - For Loop:\n",
        "\n",
        "You use a for loop when you know how many times you want to iterate over a sequence (like a list or a range of numbers)."
      ],
      "metadata": {
        "id": "BMMBrfyaj0xp"
      }
    },
    {
      "cell_type": "code",
      "source": [
        "#Ans1.1\n",
        "for i in range(1, 6):\n",
        "    print(i, end = \" \")"
      ],
      "metadata": {
        "colab": {
          "base_uri": "https://localhost:8080/"
        },
        "id": "w4-F2snUjsI3",
        "outputId": "92d9b63f-95c8-4cd6-f03c-91d7f2315a67"
      },
      "execution_count": 3,
      "outputs": [
        {
          "output_type": "stream",
          "name": "stdout",
          "text": [
            "1 2 3 4 5 "
          ]
        }
      ]
    },
    {
      "cell_type": "markdown",
      "source": [
        "**Ans1.2**-While Loop:\n",
        "\n",
        "You use a while loop when you don't know how many iterations are needed but you have a condition that controls the loop."
      ],
      "metadata": {
        "id": "WS2AgGb2kUCD"
      }
    },
    {
      "cell_type": "code",
      "source": [
        "#Ans1.2\n",
        "i = 1\n",
        "while i <= 5:\n",
        "    print(i, end = \" \")\n",
        "    i += 1\n"
      ],
      "metadata": {
        "colab": {
          "base_uri": "https://localhost:8080/"
        },
        "id": "w4RP4o_RkDe0",
        "outputId": "b3dbba2b-211b-473d-ee4c-c9b3be3d07c7"
      },
      "execution_count": 5,
      "outputs": [
        {
          "output_type": "stream",
          "name": "stdout",
          "text": [
            "1 2 3 4 5 "
          ]
        }
      ]
    },
    {
      "cell_type": "code",
      "source": [
        "#Ans2.1\n",
        "# Sum and product of first 10 natural numbers using for loop\n",
        "sum_for = 0\n",
        "product_for = 1\n",
        "\n",
        "for i in range(1, 11):\n",
        "    sum_for += i\n",
        "    product_for *= i\n",
        "\n",
        "print(\"Sum using for loop:\", sum_for)\n",
        "print(\"Product using for loop:\", product_for)"
      ],
      "metadata": {
        "colab": {
          "base_uri": "https://localhost:8080/"
        },
        "id": "WGDsQnAJkcuU",
        "outputId": "0c5acfe2-c6cd-4a47-db1c-32cdd0f4268b"
      },
      "execution_count": 6,
      "outputs": [
        {
          "output_type": "stream",
          "name": "stdout",
          "text": [
            "Sum using for loop: 55\n",
            "Product using for loop: 3628800\n"
          ]
        }
      ]
    },
    {
      "cell_type": "code",
      "source": [
        "#Ans2.2\n",
        "# Sum and product of first 10 natural numbers using while loop\n",
        "sum_while = 0\n",
        "product_while = 1\n",
        "i = 1\n",
        "\n",
        "while i <= 10:\n",
        "    sum_while += i\n",
        "    product_while *= i\n",
        "    i += 1\n",
        "\n",
        "print(\"Sum using while loop:\", sum_while)\n",
        "print(\"Product using while loop:\", product_while)"
      ],
      "metadata": {
        "colab": {
          "base_uri": "https://localhost:8080/"
        },
        "id": "f5UCfr2akpN3",
        "outputId": "370b0596-0c1c-49d7-e285-ad68ab7a5a30"
      },
      "execution_count": 7,
      "outputs": [
        {
          "output_type": "stream",
          "name": "stdout",
          "text": [
            "Sum using while loop: 55\n",
            "Product using while loop: 3628800\n"
          ]
        }
      ]
    },
    {
      "cell_type": "code",
      "source": [
        "#Ans3\n",
        "def calculate_electricity_bill(units):\n",
        "    if units <= 100:\n",
        "        bill = units * 4.5\n",
        "    elif units <= 200:\n",
        "        bill = (100 * 4.5) + (units - 100) * 6\n",
        "    elif units <= 300:\n",
        "        bill = (100 * 4.5) + (100 * 6) + (units - 200) * 10\n",
        "    else:\n",
        "        bill = (100 * 4.5) + (100 * 6) + (100 * 10) + (units - 300) * 20\n",
        "    return bill\n",
        "\n",
        "units_consumed = 310\n",
        "print(\"Total electricity bill for\", units_consumed, \"units is:\", calculate_electricity_bill(units_consumed))"
      ],
      "metadata": {
        "colab": {
          "base_uri": "https://localhost:8080/"
        },
        "id": "GIX4hmLbk1of",
        "outputId": "d3a6c05c-868d-4b41-9b16-22ee8808d10e"
      },
      "execution_count": 8,
      "outputs": [
        {
          "output_type": "stream",
          "name": "stdout",
          "text": [
            "Total electricity bill for 310 units is: 2250.0\n"
          ]
        }
      ]
    },
    {
      "cell_type": "code",
      "source": [
        "#Ans4.1\n",
        "# Using for loop\n",
        "cubes_list_for = []\n",
        "\n",
        "for i in range(1, 101):\n",
        "    cube = i ** 3\n",
        "    if cube % 4 == 0 or cube % 5 == 0:\n",
        "        cubes_list_for.append(i)\n",
        "\n",
        "print(\"Numbers whose cubes are divisible by 4 or 5 (for loop):\", cubes_list_for)"
      ],
      "metadata": {
        "colab": {
          "base_uri": "https://localhost:8080/"
        },
        "id": "pUu7V6silNEz",
        "outputId": "3b9a8e2e-d1d1-4c79-beec-80104069346f"
      },
      "execution_count": 10,
      "outputs": [
        {
          "output_type": "stream",
          "name": "stdout",
          "text": [
            "Numbers whose cubes are divisible by 4 or 5 (for loop): [2, 4, 5, 6, 8, 10, 12, 14, 15, 16, 18, 20, 22, 24, 25, 26, 28, 30, 32, 34, 35, 36, 38, 40, 42, 44, 45, 46, 48, 50, 52, 54, 55, 56, 58, 60, 62, 64, 65, 66, 68, 70, 72, 74, 75, 76, 78, 80, 82, 84, 85, 86, 88, 90, 92, 94, 95, 96, 98, 100]\n"
          ]
        }
      ]
    },
    {
      "cell_type": "code",
      "source": [
        "#Ans4.2\n",
        "# Using while loop\n",
        "cubes_list_while = []\n",
        "i = 1\n",
        "\n",
        "while i <= 100:\n",
        "    cube = i ** 3\n",
        "    if cube % 4 == 0 or cube % 5 == 0:\n",
        "        cubes_list_while.append(i)\n",
        "    i += 1\n",
        "\n",
        "print(\"Numbers whose cubes are divisible by 4 or 5 (while loop):\", cubes_list_while)\n"
      ],
      "metadata": {
        "colab": {
          "base_uri": "https://localhost:8080/"
        },
        "id": "Y62XSoC-lYhF",
        "outputId": "cd56f71f-ff0b-4256-897f-398e86d21f6c"
      },
      "execution_count": 11,
      "outputs": [
        {
          "output_type": "stream",
          "name": "stdout",
          "text": [
            "Numbers whose cubes are divisible by 4 or 5 (while loop): [2, 4, 5, 6, 8, 10, 12, 14, 15, 16, 18, 20, 22, 24, 25, 26, 28, 30, 32, 34, 35, 36, 38, 40, 42, 44, 45, 46, 48, 50, 52, 54, 55, 56, 58, 60, 62, 64, 65, 66, 68, 70, 72, 74, 75, 76, 78, 80, 82, 84, 85, 86, 88, 90, 92, 94, 95, 96, 98, 100]\n"
          ]
        }
      ]
    },
    {
      "cell_type": "code",
      "source": [
        "#Ans5\n",
        "string = \"I want to become a data scientist\"\n",
        "vowels = \"aeiouAEIOU\"\n",
        "\n",
        "filtered_string = ''.join([char for char in string if char not in vowels])\n",
        "\n",
        "print(\"String after filtering vowels:\", filtered_string)"
      ],
      "metadata": {
        "colab": {
          "base_uri": "https://localhost:8080/"
        },
        "id": "sfMl5inklsZH",
        "outputId": "073e3dd3-195f-4bb0-91ef-ed1cec343ad4"
      },
      "execution_count": 13,
      "outputs": [
        {
          "output_type": "stream",
          "name": "stdout",
          "text": [
            "String after filtering vowels:  wnt t bcm  dt scntst\n"
          ]
        }
      ]
    }
  ]
}